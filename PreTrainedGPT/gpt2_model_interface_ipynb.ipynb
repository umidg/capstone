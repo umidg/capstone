{
 "cells": [
  {
   "cell_type": "code",
   "execution_count": 2,
   "id": "d4a6cead",
   "metadata": {},
   "outputs": [
    {
     "name": "stderr",
     "output_type": "stream",
     "text": [
      "The attention mask and the pad token id were not set. As a consequence, you may observe unexpected behavior. Please pass your input's `attention_mask` to obtain reliable results.\n",
      "Setting `pad_token_id` to `eos_token_id`:50256 for open-end generation.\n"
     ]
    },
    {
     "name": "stdout",
     "output_type": "stream",
     "text": [
      "Cleaned Cover Letter:\n",
      "\n",
      "Job Information: Generate a cover letter for Demand Generation Manager at Klue that requires WordPress, Google Tag Manager,\n",
      "\\ Project management, Marketing as major qualifications and demand gen, marketing programs, competitive enablement, leadership team, marketing automation,\n",
      " marketing team, nwhat youll, pay progress, series b, ability drive as major requirements. My name is Jane Doe, my education is Bachelor of Science in Business\n",
      "  Administration from University of Anytown, Anytown, USA Graduated: May 2015  and my skills are WordPress, Google Tag Manager, Project Management, Marketing, Demand\n",
      "   Generation  and my work experience is Demand Generation Manager at ABC Company, Anytown, USA (June 2015 - Present): Developed and implemented effective marketing programs \n",
      "   resulting in a 30% increase in lead generation. Managed competitive enablement initiatives and collaborated with the leadership team to drive marketing automation efforts.. \n",
      "\n",
      "\n",
      "Cover Letter: Dear Hiring Manager  I am writing to express my interest in the Demand generation Manager position at DemandGenius. With my extensive experience in marketing and project management in my current role as a Demand Genius Marketing Manager in New York City, I believe I have the skills and experience necessary to excel in this role.  In my previous role at XYZ Company where I led a team of marketing professionals to achieve a 20% lead increase, the role required me to develop and implement effective lead management strategies. This experience has equipped me with a strong understanding of the importance of creating compelling content for our website and our social media platforms. I also possess strong organizational skills which I use to manage multiple projects simultaneously. Additionally, as an Account Manager with over five years of experience as part of a marketing strategy team at Tech Solutions Inc., I possess a proven track record of managing multiple accounts simultaneously and ensuring that all accounts meet the company's goals. Furthermore, while working as Account Management Manager for XYz Company for the past six years,  my responsibilities included managing account growth and achieving a 50% growth rate. These experiences have equipped my with strong analytical skills in managing accounts and tracking account activity. Moreover, these skills have been instrumental in ensuring our online presence and driving our digital presence. In addition to my technical skills, however, there are also strong communication skills that I bring to the table. One of my key strengths is my ability to work collaboratively with team members and stakeholders to ensure our content is consistently delivered. As a Marketing Specialist at Creative Solutions, where my role involves managing and analyzing account performance and marketing strategies, this knowledge has been invaluable in understanding the challenges and opportunities that arise in our business. At Creative Solution, we have consistently achieved our marketing goals and have a solid track-record of achieving them. Together, our skills align perfectly with your requirements for this position. Thank you for considering my application. Sincerely, Jane Jane\n"
     ]
    }
   ],
   "source": [
    "from transformers import GPT2LMHeadModel, GPT2Tokenizer\n",
    "\n",
    "# Load the fine-tuned model\n",
    "model_path = 'model_epoch3'\n",
    "tokenizer = GPT2Tokenizer.from_pretrained(\"gpt2\")\n",
    "model = GPT2LMHeadModel.from_pretrained(model_path)\n",
    "\n",
    "# Provide the job description as input text\n",
    "job_description = \"\"\"\n",
    "Job Information: Generate a cover letter for Demand Generation Manager at Klue that requires WordPress, Google Tag Manager,\n",
    "\\ Project management, Marketing as major qualifications and demand gen, marketing programs, competitive enablement, leadership team, marketing automation,\n",
    " marketing team, nwhat youll, pay progress, series b, ability drive as major requirements. My name is Jane Doe, my education is Bachelor of Science in Business\n",
    "  Administration from University of Anytown, Anytown, USA Graduated: May 2015  and my skills are WordPress, Google Tag Manager, Project Management, Marketing, Demand\n",
    "   Generation  and my work experience is Demand Generation Manager at ABC Company, Anytown, USA (June 2015 - Present): Developed and implemented effective marketing programs \n",
    "   resulting in a 30% increase in lead generation. Managed competitive enablement initiatives and collaborated with the leadership team to drive marketing automation efforts.. \n",
    "\n",
    "\"\"\"\n",
    "\n",
    "# Encode the job description and generate a cover letter\n",
    "input_ids = tokenizer.encode(job_description, return_tensors=\"pt\")\n",
    "output = model.generate(input_ids, max_new_tokens=500, num_return_sequences=1, no_repeat_ngram_size=2)\n",
    "\n",
    "# Decode the generated cover letter\n",
    "generated_cover_letter = tokenizer.decode(output[0], skip_special_tokens=True)\n",
    "\n",
    "# Print the generated cover letter\n",
    "# print(\"Generated Cover Letter:\")\n",
    "# print(generated_cover_letter)\n",
    "\n",
    "\n",
    "\n",
    "# Find the index of \"Sincerely\" in the cover letter\n",
    "sincerely_index = generated_cover_letter.find(\"Sincerely\")\n",
    "\n",
    "# Remove the content after \"Sincerely\"\n",
    "cleaned_cover_letter = generated_cover_letter[:sincerely_index+20]\n",
    "\n",
    "print(\"Cleaned Cover Letter:\")\n",
    "print(cleaned_cover_letter)\n"
   ]
  }
 ],
 "metadata": {
  "kernelspec": {
   "display_name": "Python 3 (ipykernel)",
   "language": "python",
   "name": "python3"
  },
  "language_info": {
   "codemirror_mode": {
    "name": "ipython",
    "version": 3
   },
   "file_extension": ".py",
   "mimetype": "text/x-python",
   "name": "python",
   "nbconvert_exporter": "python",
   "pygments_lexer": "ipython3",
   "version": "3.9.13"
  }
 },
 "nbformat": 4,
 "nbformat_minor": 5
}
